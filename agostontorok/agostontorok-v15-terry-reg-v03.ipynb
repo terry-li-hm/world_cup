{
 "cells": [
  {
   "cell_type": "markdown",
   "metadata": {
    "_uuid": "55d7132bf01a6553a087fd6ce7aad6be3553e4f5"
   },
   "source": [
    "- [International Soccer matches from 1872 to 2018 (courtesy of Mart Jürisoo](https://www.kaggle.com/martj42/international-football-results-from-1872-to-2017))\n",
    "    - This I will use to find out how much the difference in point, ranks and the current rank of the team affects the outocme of a match\n",
    "- [FIFA rankings from 1993 to 2018 (courtesy of Tadhg Fitzgerald](https://www.kaggle.com/tadhgfitzgerald/fifa-international-soccer-mens-ranking-1993now))\n",
    "    - This one I used to get the FIFA ranking and points for the teams, which is a monthly changing rank previously shown as a [decent predictor](http://www.sportingintelligence.com/2014/06/20/upsets-giant-killings-adios-bye-bye-fifa-rankings-still-ahead-in-predicting-results-200601/) of team performance\n",
    "- [FIFA World Cup 2018 data set (courtesy of Nuggs](https://www.kaggle.com/ahmedelnaggar/fifa-worldcup-2018-dataset))"
   ]
  },
  {
   "cell_type": "code",
   "execution_count": 1,
   "metadata": {
    "ExecuteTime": {
     "end_time": "2018-06-22T02:10:08.829287Z",
     "start_time": "2018-06-22T02:10:08.099262Z"
    },
    "_cell_guid": "b1076dfc-b9ad-4769-8c92-a6c4dae69d19",
    "_uuid": "8f2839f25d086af736a60e9eeb907d3b93b6e0e5"
   },
   "outputs": [],
   "source": [
    "import numpy as np\n",
    "import pandas as pd\n",
    "pd.set_option('display.max_columns',None)\n",
    "pd.set_option('display.max_rows',100)\n",
    "from matplotlib import pyplot as plt\n",
    "\n",
    "rankings = pd.read_csv('data/fifa_ranking.csv')\n",
    "rankings = rankings.loc[:,['rank', 'country_full', 'country_abrv', 'cur_year_avg_weighted', 'rank_date', \n",
    "                           'two_year_ago_weighted', 'three_year_ago_weighted']]\n",
    "rankings = rankings.replace({\"IR Iran\": \"Iran\"})\n",
    "rankings['weighted_points'] =  rankings['cur_year_avg_weighted'] + rankings['two_year_ago_weighted'] + rankings['three_year_ago_weighted']\n",
    "rankings['rank_date'] = pd.to_datetime(rankings['rank_date'])\n",
    "\n",
    "matches = pd.read_csv('data/results.csv')\n",
    "matches = matches.replace({'Germany DR': 'Germany', 'China': 'China PR'})\n",
    "matches['date'] = pd.to_datetime(matches['date'])\n",
    "\n",
    "world_cup = pd.read_csv('data/World Cup 2018 Dataset.csv')\n",
    "world_cup = world_cup.loc[:, ['Team', 'Group', 'First match \\nagainst', 'Second match\\n against', 'Third match\\n against']]\n",
    "world_cup = world_cup.dropna(how='all')\n",
    "world_cup = world_cup.replace({\"IRAN\": \"Iran\", \n",
    "                               \"Costarica\": \"Costa Rica\", \n",
    "                               \"Porugal\": \"Portugal\", \n",
    "                               \"Columbia\": \"Colombia\", \n",
    "                               \"Korea\" : \"Korea Republic\"})\n",
    "world_cup = world_cup.set_index('Team')"
   ]
  },
  {
   "cell_type": "markdown",
   "metadata": {
    "_uuid": "a34c1cd5a26c1024b0638d2d93fc0c691b290024"
   },
   "source": [
    "Join the matches with the ranks of the different teams. Then extract some features:\n",
    "- point and rank differences\n",
    "- if the game was for some stakes, because my naive view was that typically friendly matches are harder to predict (TODO differentiate the WC matches from the rest)"
   ]
  },
  {
   "cell_type": "code",
   "execution_count": 3,
   "metadata": {
    "ExecuteTime": {
     "end_time": "2018-06-22T02:10:10.503143Z",
     "start_time": "2018-06-22T02:10:08.848886Z"
    },
    "_uuid": "863552790217b049b611165e162ad3182f1692f9"
   },
   "outputs": [],
   "source": [
    "# Ranks for every day \n",
    "rankings = rankings.set_index(['rank_date'])\\\n",
    "            .groupby(['country_full'], group_keys=False)\\\n",
    "            .resample('D').first()\\\n",
    "            .fillna(method='ffill')\\\n",
    "            .reset_index()\n",
    "\n",
    "# join the ranks\n",
    "matches = matches.merge(rankings, \n",
    "                        left_on=['date', 'home_team'], \n",
    "                        right_on=['rank_date', 'country_full'])\n",
    "matches = matches.merge(rankings, \n",
    "                        left_on=['date', 'away_team'], \n",
    "                        right_on=['rank_date', 'country_full'], \n",
    "                        suffixes=('_home', '_away'))"
   ]
  },
  {
   "cell_type": "code",
   "execution_count": 4,
   "metadata": {
    "ExecuteTime": {
     "end_time": "2018-06-22T02:10:10.513929Z",
     "start_time": "2018-06-22T02:10:10.504421Z"
    },
    "_uuid": "107fa4816e6db551811abd9fc784c34f1ad63682"
   },
   "outputs": [],
   "source": [
    "# feature generation\n",
    "matches['rank_difference'] = matches['rank_home'] - matches['rank_away']\n",
    "matches['average_rank'] = (matches['rank_home'] + matches['rank_away'])/2\n",
    "matches['point_difference'] = matches['weighted_points_home'] - matches['weighted_points_away']\n",
    "matches['score_difference'] = matches['home_score'] - matches['away_score']\n",
    "matches['is_won'] = matches['score_difference'] > 0 # take draw as lost\n",
    "matches['is_stake'] = matches['tournament'] != 'Friendly'\n",
    "\n",
    "# # how many days the different teams were able to rest but this turned out to be not important enough to be worth the hassle\n",
    "# max_rest = 30\n",
    "# matches['rest_days'] = matches.groupby('home_team').diff()['date'].dt.days.clip(0,max_rest).fillna(max_rest)\n",
    "\n",
    "# # include the participant countries as a one hot vector but that did not appear to be a strong predictor either\n",
    "# matches['wc_participant'] = matches['home_team'] * matches['home_team'].isin(world_cup.index.tolist())\n",
    "# matches['wc_participant'] = matches['wc_participant'].replace({'':'Other'})\n",
    "# matches = matches.join(pd.get_dummies(matches['wc_participant']))"
   ]
  },
  {
   "cell_type": "code",
   "execution_count": 5,
   "metadata": {
    "ExecuteTime": {
     "end_time": "2018-06-22T02:10:10.542875Z",
     "start_time": "2018-06-22T02:10:10.515133Z"
    }
   },
   "outputs": [
    {
     "data": {
      "text/html": [
       "<div>\n",
       "<style scoped>\n",
       "    .dataframe tbody tr th:only-of-type {\n",
       "        vertical-align: middle;\n",
       "    }\n",
       "\n",
       "    .dataframe tbody tr th {\n",
       "        vertical-align: top;\n",
       "    }\n",
       "\n",
       "    .dataframe thead th {\n",
       "        text-align: right;\n",
       "    }\n",
       "</style>\n",
       "<table border=\"1\" class=\"dataframe\">\n",
       "  <thead>\n",
       "    <tr style=\"text-align: right;\">\n",
       "      <th></th>\n",
       "      <th>date</th>\n",
       "      <th>home_team</th>\n",
       "      <th>away_team</th>\n",
       "      <th>home_score</th>\n",
       "      <th>away_score</th>\n",
       "      <th>tournament</th>\n",
       "      <th>city</th>\n",
       "      <th>country</th>\n",
       "      <th>neutral</th>\n",
       "      <th>rank_date_home</th>\n",
       "      <th>rank_home</th>\n",
       "      <th>country_full_home</th>\n",
       "      <th>country_abrv_home</th>\n",
       "      <th>cur_year_avg_weighted_home</th>\n",
       "      <th>two_year_ago_weighted_home</th>\n",
       "      <th>three_year_ago_weighted_home</th>\n",
       "      <th>weighted_points_home</th>\n",
       "      <th>rank_date_away</th>\n",
       "      <th>rank_away</th>\n",
       "      <th>country_full_away</th>\n",
       "      <th>country_abrv_away</th>\n",
       "      <th>cur_year_avg_weighted_away</th>\n",
       "      <th>two_year_ago_weighted_away</th>\n",
       "      <th>three_year_ago_weighted_away</th>\n",
       "      <th>weighted_points_away</th>\n",
       "      <th>rank_difference</th>\n",
       "      <th>average_rank</th>\n",
       "      <th>point_difference</th>\n",
       "      <th>score_difference</th>\n",
       "      <th>is_won</th>\n",
       "      <th>is_stake</th>\n",
       "    </tr>\n",
       "  </thead>\n",
       "  <tbody>\n",
       "    <tr>\n",
       "      <th>18474</th>\n",
       "      <td>2018-06-07</td>\n",
       "      <td>Uruguay</td>\n",
       "      <td>Uzbekistan</td>\n",
       "      <td>3</td>\n",
       "      <td>0</td>\n",
       "      <td>Friendly</td>\n",
       "      <td>Montevideo</td>\n",
       "      <td>Uruguay</td>\n",
       "      <td>False</td>\n",
       "      <td>2018-06-07</td>\n",
       "      <td>14.0</td>\n",
       "      <td>Uruguay</td>\n",
       "      <td>URU</td>\n",
       "      <td>486.28</td>\n",
       "      <td>168.44</td>\n",
       "      <td>119.85</td>\n",
       "      <td>774.57</td>\n",
       "      <td>2018-06-07</td>\n",
       "      <td>95.0</td>\n",
       "      <td>Uzbekistan</td>\n",
       "      <td>UZB</td>\n",
       "      <td>66.85</td>\n",
       "      <td>93.52</td>\n",
       "      <td>40.74</td>\n",
       "      <td>201.11</td>\n",
       "      <td>-81.0</td>\n",
       "      <td>54.5</td>\n",
       "      <td>573.46</td>\n",
       "      <td>3</td>\n",
       "      <td>True</td>\n",
       "      <td>False</td>\n",
       "    </tr>\n",
       "    <tr>\n",
       "      <th>18475</th>\n",
       "      <td>2018-06-07</td>\n",
       "      <td>Portugal</td>\n",
       "      <td>Algeria</td>\n",
       "      <td>3</td>\n",
       "      <td>0</td>\n",
       "      <td>Friendly</td>\n",
       "      <td>Lisbon</td>\n",
       "      <td>Portugal</td>\n",
       "      <td>False</td>\n",
       "      <td>2018-06-07</td>\n",
       "      <td>4.0</td>\n",
       "      <td>Portugal</td>\n",
       "      <td>POR</td>\n",
       "      <td>646.92</td>\n",
       "      <td>155.33</td>\n",
       "      <td>125.53</td>\n",
       "      <td>927.78</td>\n",
       "      <td>2018-06-07</td>\n",
       "      <td>66.0</td>\n",
       "      <td>Algeria</td>\n",
       "      <td>ALG</td>\n",
       "      <td>163.41</td>\n",
       "      <td>91.40</td>\n",
       "      <td>101.63</td>\n",
       "      <td>356.44</td>\n",
       "      <td>-62.0</td>\n",
       "      <td>35.0</td>\n",
       "      <td>571.34</td>\n",
       "      <td>3</td>\n",
       "      <td>True</td>\n",
       "      <td>False</td>\n",
       "    </tr>\n",
       "    <tr>\n",
       "      <th>18476</th>\n",
       "      <td>2018-06-07</td>\n",
       "      <td>Korea Republic</td>\n",
       "      <td>Bolivia</td>\n",
       "      <td>0</td>\n",
       "      <td>0</td>\n",
       "      <td>Friendly</td>\n",
       "      <td>Innsbruck</td>\n",
       "      <td>Austria</td>\n",
       "      <td>True</td>\n",
       "      <td>2018-06-07</td>\n",
       "      <td>57.0</td>\n",
       "      <td>Korea Republic</td>\n",
       "      <td>KOR</td>\n",
       "      <td>162.13</td>\n",
       "      <td>91.79</td>\n",
       "      <td>65.96</td>\n",
       "      <td>319.88</td>\n",
       "      <td>2018-06-07</td>\n",
       "      <td>59.0</td>\n",
       "      <td>Bolivia</td>\n",
       "      <td>BOL</td>\n",
       "      <td>291.14</td>\n",
       "      <td>66.68</td>\n",
       "      <td>21.32</td>\n",
       "      <td>379.14</td>\n",
       "      <td>-2.0</td>\n",
       "      <td>58.0</td>\n",
       "      <td>-59.26</td>\n",
       "      <td>0</td>\n",
       "      <td>False</td>\n",
       "      <td>False</td>\n",
       "    </tr>\n",
       "    <tr>\n",
       "      <th>18477</th>\n",
       "      <td>2018-06-07</td>\n",
       "      <td>Iceland</td>\n",
       "      <td>Ghana</td>\n",
       "      <td>2</td>\n",
       "      <td>2</td>\n",
       "      <td>Friendly</td>\n",
       "      <td>Reykjavík</td>\n",
       "      <td>Iceland</td>\n",
       "      <td>False</td>\n",
       "      <td>2018-06-07</td>\n",
       "      <td>22.0</td>\n",
       "      <td>Iceland</td>\n",
       "      <td>ISL</td>\n",
       "      <td>438.64</td>\n",
       "      <td>90.61</td>\n",
       "      <td>96.64</td>\n",
       "      <td>625.89</td>\n",
       "      <td>2018-06-07</td>\n",
       "      <td>47.0</td>\n",
       "      <td>Ghana</td>\n",
       "      <td>GHA</td>\n",
       "      <td>261.21</td>\n",
       "      <td>99.90</td>\n",
       "      <td>92.63</td>\n",
       "      <td>453.74</td>\n",
       "      <td>-25.0</td>\n",
       "      <td>34.5</td>\n",
       "      <td>172.15</td>\n",
       "      <td>0</td>\n",
       "      <td>False</td>\n",
       "      <td>False</td>\n",
       "    </tr>\n",
       "    <tr>\n",
       "      <th>18478</th>\n",
       "      <td>2018-06-07</td>\n",
       "      <td>India</td>\n",
       "      <td>New Zealand</td>\n",
       "      <td>1</td>\n",
       "      <td>2</td>\n",
       "      <td>Friendly</td>\n",
       "      <td>Mumbai</td>\n",
       "      <td>India</td>\n",
       "      <td>False</td>\n",
       "      <td>2018-06-07</td>\n",
       "      <td>97.0</td>\n",
       "      <td>India</td>\n",
       "      <td>IND</td>\n",
       "      <td>196.24</td>\n",
       "      <td>25.50</td>\n",
       "      <td>17.00</td>\n",
       "      <td>238.74</td>\n",
       "      <td>2018-06-07</td>\n",
       "      <td>120.0</td>\n",
       "      <td>New Zealand</td>\n",
       "      <td>NZL</td>\n",
       "      <td>78.58</td>\n",
       "      <td>76.45</td>\n",
       "      <td>3.81</td>\n",
       "      <td>158.84</td>\n",
       "      <td>-23.0</td>\n",
       "      <td>108.5</td>\n",
       "      <td>79.90</td>\n",
       "      <td>-1</td>\n",
       "      <td>False</td>\n",
       "      <td>False</td>\n",
       "    </tr>\n",
       "  </tbody>\n",
       "</table>\n",
       "</div>"
      ],
      "text/plain": [
       "            date       home_team    away_team  home_score  away_score  \\\n",
       "18474 2018-06-07         Uruguay   Uzbekistan           3           0   \n",
       "18475 2018-06-07        Portugal      Algeria           3           0   \n",
       "18476 2018-06-07  Korea Republic      Bolivia           0           0   \n",
       "18477 2018-06-07         Iceland        Ghana           2           2   \n",
       "18478 2018-06-07           India  New Zealand           1           2   \n",
       "\n",
       "      tournament        city   country  neutral rank_date_home  rank_home  \\\n",
       "18474   Friendly  Montevideo   Uruguay    False     2018-06-07       14.0   \n",
       "18475   Friendly      Lisbon  Portugal    False     2018-06-07        4.0   \n",
       "18476   Friendly   Innsbruck   Austria     True     2018-06-07       57.0   \n",
       "18477   Friendly   Reykjavík   Iceland    False     2018-06-07       22.0   \n",
       "18478   Friendly      Mumbai     India    False     2018-06-07       97.0   \n",
       "\n",
       "      country_full_home country_abrv_home  cur_year_avg_weighted_home  \\\n",
       "18474           Uruguay               URU                      486.28   \n",
       "18475          Portugal               POR                      646.92   \n",
       "18476    Korea Republic               KOR                      162.13   \n",
       "18477           Iceland               ISL                      438.64   \n",
       "18478             India               IND                      196.24   \n",
       "\n",
       "       two_year_ago_weighted_home  three_year_ago_weighted_home  \\\n",
       "18474                      168.44                        119.85   \n",
       "18475                      155.33                        125.53   \n",
       "18476                       91.79                         65.96   \n",
       "18477                       90.61                         96.64   \n",
       "18478                       25.50                         17.00   \n",
       "\n",
       "       weighted_points_home rank_date_away  rank_away country_full_away  \\\n",
       "18474                774.57     2018-06-07       95.0        Uzbekistan   \n",
       "18475                927.78     2018-06-07       66.0           Algeria   \n",
       "18476                319.88     2018-06-07       59.0           Bolivia   \n",
       "18477                625.89     2018-06-07       47.0             Ghana   \n",
       "18478                238.74     2018-06-07      120.0       New Zealand   \n",
       "\n",
       "      country_abrv_away  cur_year_avg_weighted_away  \\\n",
       "18474               UZB                       66.85   \n",
       "18475               ALG                      163.41   \n",
       "18476               BOL                      291.14   \n",
       "18477               GHA                      261.21   \n",
       "18478               NZL                       78.58   \n",
       "\n",
       "       two_year_ago_weighted_away  three_year_ago_weighted_away  \\\n",
       "18474                       93.52                         40.74   \n",
       "18475                       91.40                        101.63   \n",
       "18476                       66.68                         21.32   \n",
       "18477                       99.90                         92.63   \n",
       "18478                       76.45                          3.81   \n",
       "\n",
       "       weighted_points_away  rank_difference  average_rank  point_difference  \\\n",
       "18474                201.11            -81.0          54.5            573.46   \n",
       "18475                356.44            -62.0          35.0            571.34   \n",
       "18476                379.14             -2.0          58.0            -59.26   \n",
       "18477                453.74            -25.0          34.5            172.15   \n",
       "18478                158.84            -23.0         108.5             79.90   \n",
       "\n",
       "       score_difference  is_won  is_stake  \n",
       "18474                 3    True     False  \n",
       "18475                 3    True     False  \n",
       "18476                 0   False     False  \n",
       "18477                 0   False     False  \n",
       "18478                -1   False     False  "
      ]
     },
     "execution_count": 5,
     "metadata": {},
     "output_type": "execute_result"
    }
   ],
   "source": [
    "matches.tail()"
   ]
  },
  {
   "cell_type": "code",
   "execution_count": 6,
   "metadata": {
    "ExecuteTime": {
     "end_time": "2018-06-22T02:10:10.555124Z",
     "start_time": "2018-06-22T02:10:10.544040Z"
    }
   },
   "outputs": [],
   "source": [
    "\n",
    "matches.loc[matches['home_score']>5, 'home_score'] = 5\n",
    "matches.loc[matches['away_score']>5, 'away_score'] = 5"
   ]
  },
  {
   "cell_type": "markdown",
   "metadata": {
    "_uuid": "f67d4cba7bc60580490e00507a0811803e12a6e6"
   },
   "source": [
    "# Modeling"
   ]
  },
  {
   "cell_type": "code",
   "execution_count": 7,
   "metadata": {
    "ExecuteTime": {
     "end_time": "2018-06-22T02:10:10.906825Z",
     "start_time": "2018-06-22T02:10:10.556372Z"
    },
    "_uuid": "78e3186d0e783cf2a4cb1a141a8d0ffe9f2b59ba"
   },
   "outputs": [],
   "source": [
    "from sklearn import linear_model\n",
    "from sklearn.ensemble import RandomForestRegressor\n",
    "from sklearn import ensemble\n",
    "from sklearn.model_selection import train_test_split\n",
    "from sklearn.metrics import confusion_matrix, roc_curve, roc_auc_score\n",
    "from sklearn.pipeline import Pipeline\n",
    "from sklearn.preprocessing import PolynomialFeatures\n",
    "\n",
    "# X, y = matches.loc[:,['average_rank', 'rank_difference', 'point_difference', 'is_stake']], matches['is_won']\n",
    "# X, y = matches.loc[:,['average_rank', 'rank_difference', 'point_difference', 'is_stake']], matches['is_won'].astype(int)\n",
    "# X, y = matches.loc[:,['average_rank', 'rank_difference', 'point_difference', 'is_stake']], matches.loc[:,['home_score', 'away_score']].values\n",
    "# X, y = matches.loc[:,['average_rank', 'rank_difference', 'point_difference', \n",
    "#                       'is_stake']][(matches['weighted_points_home']>0).values & (matches['weighted_points_away']>0).values], matches.loc[:,['home_score', \n",
    "#                                                    'away_score']][(matches['weighted_points_home']>0).values & (matches['weighted_points_away']>0).values].values\n",
    "X, y = matches.loc[:,['average_rank', 'rank_difference', 'point_difference', \n",
    "                      'is_stake']][(matches['weighted_points_home']>0).values & (matches['weighted_points_away']>0).values], matches.loc[:,['home_score', \n",
    "                                                   'score_difference']][(matches['weighted_points_home']>0).values & (matches['weighted_points_away']>0).values].values\n",
    "# X, y = matches.loc[:,['is_stake']], matches.loc[:,['home_score', 'away_score']].values\n",
    "# X, y = matches.loc[:,['average_rank', 'rank_difference', 'point_difference', 'is_stake']], matches['home_score']\n",
    "# X, y = matches.loc[:,['average_rank', 'rank_difference', 'point_difference', 'is_stake']], matches['score_difference']\n",
    "\n",
    "X_train, X_test, y_train, y_test = train_test_split(X, y, test_size=0.2, random_state=42)"
   ]
  },
  {
   "cell_type": "code",
   "execution_count": 8,
   "metadata": {
    "ExecuteTime": {
     "end_time": "2018-06-22T02:10:10.934505Z",
     "start_time": "2018-06-22T02:10:10.908276Z"
    },
    "_uuid": "78e3186d0e783cf2a4cb1a141a8d0ffe9f2b59ba"
   },
   "outputs": [
    {
     "name": "stdout",
     "output_type": "stream",
     "text": [
      "[0.25876422 0.40631837 0.29953439 0.03538302]\n",
      "MSE: 4.6761\n",
      "0.9956364649017999\n",
      "-0.6101508945420017\n",
      "0.010323791647114031\n",
      "1.5928705440900561\n"
     ]
    }
   ],
   "source": [
    "# # max_depth = 30\n",
    "# # regr_rf = RandomForestRegressor(n_estimators=10, max_depth=max_depth, random_state=2)\n",
    "# logreg = linear_model.LogisticRegression(C=1e-5)\n",
    "# features = PolynomialFeatures(degree=2)\n",
    "# model = Pipeline([\n",
    "#     ('polynomial_features', features),\n",
    "#     ('logistic_regression', logreg)\n",
    "# #     ('random_forest_regression', regr_rf)\n",
    "# ])\n",
    "\n",
    "from sklearn import tree\n",
    "model = tree.DecisionTreeRegressor()\n",
    "\n",
    "# from sklearn import ensemble\n",
    "from sklearn.metrics import mean_squared_error\n",
    "# params = {'n_estimators': 500, 'max_depth': 4, 'min_samples_split': 2,\n",
    "#           'learning_rate': 0.01, 'loss': 'ls'}\n",
    "# # params = {'n_estimators': 1000, 'max_depth': 4, 'min_samples_split': 2,\n",
    "# #           'learning_rate': 0.01, 'loss': 'ls'}\n",
    "# model = ensemble.GradientBoostingRegressor(**params)\n",
    "\n",
    "model.fit(X_train, y_train)\n",
    "\n",
    "print(model.feature_importances_)\n",
    "mse = mean_squared_error(y_test, model.predict(X_test))\n",
    "print(\"MSE: %.4f\" % mse)\n",
    "\n",
    "# model = model.fit(X_train, y_train)\n",
    "print(model.score(X_train, y_train))\n",
    "print(model.score(X_test, y_test))\n",
    "from sklearn.metrics import mean_absolute_error\n",
    "print(mean_absolute_error(y_train, model.predict(X_train)))\n",
    "print(mean_absolute_error(y_test, model.predict(X_test)))"
   ]
  },
  {
   "cell_type": "code",
   "execution_count": 9,
   "metadata": {
    "ExecuteTime": {
     "end_time": "2018-06-22T02:10:10.938630Z",
     "start_time": "2018-06-22T02:10:10.935958Z"
    }
   },
   "outputs": [],
   "source": [
    "# # Plot training deviance\n",
    "\n",
    "# # compute test set deviance\n",
    "# test_score = np.zeros((params['n_estimators'],), dtype=np.float64)\n",
    "\n",
    "# for i, y_pred in enumerate(model.staged_predict(X_test)):\n",
    "#     test_score[i] = model.loss_(y_test, y_pred)\n",
    "\n",
    "# plt.figure(figsize=(12, 6))\n",
    "# plt.subplot(1, 2, 1)\n",
    "# plt.title('Deviance')\n",
    "# plt.plot(np.arange(params['n_estimators']) + 1, model.train_score_, 'b-',\n",
    "#          label='Training Set Deviance')\n",
    "# plt.plot(np.arange(params['n_estimators']) + 1, test_score, 'r-',\n",
    "#          label='Test Set Deviance')\n",
    "# plt.legend(loc='upper right')\n",
    "# plt.xlabel('Boosting Iterations')\n",
    "# plt.ylabel('Deviance')\n",
    "\n",
    "# # Plot feature importance\n",
    "# feature_importance = model.feature_importances_\n",
    "# # make importances relative to max importance\n",
    "# feature_importance = 100.0 * (feature_importance / feature_importance.max())\n",
    "# sorted_idx = np.argsort(feature_importance)\n",
    "# pos = np.arange(sorted_idx.shape[0]) + .5\n",
    "# plt.subplot(1, 2, 2)\n",
    "# plt.barh(pos, feature_importance[sorted_idx], align='center')\n",
    "# # plt.yticks(pos, boston.feature_names[sorted_idx])\n",
    "# plt.yticks(pos, np.asarray(list(X_train))[sorted_idx])\n",
    "# plt.xlabel('Relative Importance')\n",
    "# plt.title('Variable Importance')\n",
    "# plt.show()"
   ]
  },
  {
   "cell_type": "code",
   "execution_count": 10,
   "metadata": {
    "ExecuteTime": {
     "end_time": "2018-06-22T02:10:10.951799Z",
     "start_time": "2018-06-22T02:10:10.939777Z"
    }
   },
   "outputs": [],
   "source": [
    "# X_train_result, X_test_result = train_test_split(matches.loc[:,['home_team', 'away_team', 'home_score', 'away_score','average_rank', 'rank_difference', 'point_difference', \n",
    "#                                                   'is_stake', 'score_difference']], test_size=0.2, random_state=42)\n",
    "# X_train_result['pred'] = model.predict(X_train)\n",
    "# X_train_result['error'] = X_train_result['pred'] - X_train_result['score_difference']\n",
    "# print(X_train_result.shape)\n",
    "# # X_train_result.head()\n",
    "\n",
    "# X_test_result['pred'] = model.predict(X_test)\n",
    "# X_test_result['error'] = X_test_result['pred'] - X_test_result['score_difference']\n",
    "# print(X_test_result.shape)\n",
    "# # X_test_result.head()\n",
    "\n",
    "# train_error_count = X_train_result[['score_difference','error']].groupby('error').count().reset_index()\n",
    "# train_error_count.rename(columns={'score_difference':'count'}, inplace=True)\n",
    "# # train_error_count.tail(2)\n",
    "\n",
    "# test_error_count = X_test_result[['score_difference','error']].groupby('error').count().reset_index()\n",
    "# test_error_count.rename(columns={'score_difference':'count'}, inplace=True)\n",
    "# # test_error_count.tail(2)\n",
    "\n",
    "# import holoviews as hv\n",
    "# hv.extension('bokeh')"
   ]
  },
  {
   "cell_type": "code",
   "execution_count": 11,
   "metadata": {
    "ExecuteTime": {
     "end_time": "2018-06-22T02:10:11.191733Z",
     "start_time": "2018-06-22T02:10:10.952946Z"
    }
   },
   "outputs": [
    {
     "name": "stdout",
     "output_type": "stream",
     "text": [
      "(4262, 33)\n",
      "(1066, 33)\n"
     ]
    },
    {
     "ename": "ModuleNotFoundError",
     "evalue": "No module named 'holoviews'",
     "output_type": "error",
     "traceback": [
      "\u001b[0;31m---------------------------------------------------------------------------\u001b[0m",
      "\u001b[0;31mModuleNotFoundError\u001b[0m                       Traceback (most recent call last)",
      "\u001b[0;32m<ipython-input-11-2bf09f9e4600>\u001b[0m in \u001b[0;36m<module>\u001b[0;34m()\u001b[0m\n\u001b[1;32m     23\u001b[0m \u001b[0;31m# # test_error_count.tail(2)\u001b[0m\u001b[0;34m\u001b[0m\u001b[0;34m\u001b[0m\u001b[0m\n\u001b[1;32m     24\u001b[0m \u001b[0;34m\u001b[0m\u001b[0m\n\u001b[0;32m---> 25\u001b[0;31m \u001b[0;32mimport\u001b[0m \u001b[0mholoviews\u001b[0m \u001b[0;32mas\u001b[0m \u001b[0mhv\u001b[0m\u001b[0;34m\u001b[0m\u001b[0m\n\u001b[0m\u001b[1;32m     26\u001b[0m \u001b[0mhv\u001b[0m\u001b[0;34m.\u001b[0m\u001b[0mextension\u001b[0m\u001b[0;34m(\u001b[0m\u001b[0;34m'bokeh'\u001b[0m\u001b[0;34m)\u001b[0m\u001b[0;34m\u001b[0m\u001b[0m\n",
      "\u001b[0;31mModuleNotFoundError\u001b[0m: No module named 'holoviews'"
     ]
    }
   ],
   "source": [
    "# X_train_result, X_test_result = train_test_split(matches.loc[:,['date', 'home_team', 'away_team', 'average_rank', 'rank_difference', 'weighted_points_home', 'weighted_points_away', 'point_difference', \n",
    "#                                                   'is_stake', 'home_score', 'away_score']], test_size=0.2, random_state=42)\n",
    "# X_train_result, X_test_result = train_test_split(matches.copy(), test_size=0.2, random_state=42)\n",
    "X_train_result, X_test_result = train_test_split(matches.copy()[(matches['weighted_points_home']>0).values & (matches['weighted_points_away']>0).values], test_size=0.2, random_state=42)\n",
    "X_train_result['home_score_pred'] = model.predict(X_train)[:,0]\n",
    "X_train_result['score_difference_pred'] = model.predict(X_train)[:,1]\n",
    "# X_train_result['error'] = X_train_result['pred'] - X_train_result['score_difference']\n",
    "print(X_train_result.shape)\n",
    "# X_train_result.head()\n",
    "\n",
    "X_test_result['home_score_pred'] = model.predict(X_test)[:,0]\n",
    "X_test_result['score_difference_pred'] = model.predict(X_test)[:,1]\n",
    "# X_test_result['error'] = X_test_result['pred'] - X_test_result['score_difference']\n",
    "print(X_test_result.shape)\n",
    "# X_test_result.head()\n",
    "\n",
    "# train_error_count = X_train_result[['score_difference','error']].groupby('error').count().reset_index()\n",
    "# train_error_count.rename(columns={'score_difference':'count'}, inplace=True)\n",
    "# # train_error_count.tail(2)\n",
    "\n",
    "# test_error_count = X_test_result[['score_difference','error']].groupby('error').count().reset_index()\n",
    "# test_error_count.rename(columns={'score_difference':'count'}, inplace=True)\n",
    "# # test_error_count.tail(2)\n",
    "\n",
    "import holoviews as hv\n",
    "hv.extension('bokeh')"
   ]
  },
  {
   "cell_type": "code",
   "execution_count": null,
   "metadata": {
    "ExecuteTime": {
     "end_time": "2018-06-22T02:10:11.192357Z",
     "start_time": "2018-06-22T02:10:07.302Z"
    }
   },
   "outputs": [],
   "source": [
    "%%opts Scatter (color='k' marker='s' size=1)\n",
    "# hv.Scatter(X_train_result[['score_difference','pred']]) + hv.Scatter(X_test_result[['score_difference','pred']])\n",
    "# hv.Scatter(X_train_result[['score_difference','pred']]) + hv.Scatter(X_test_result[['score_difference','pred']])\n",
    "hv.Scatter(X_train_result[['home_score','home_score_pred']]) + hv.Scatter(X_train_result[['away_score','away_score_pred']])"
   ]
  },
  {
   "cell_type": "code",
   "execution_count": null,
   "metadata": {
    "ExecuteTime": {
     "end_time": "2018-06-22T02:10:11.193118Z",
     "start_time": "2018-06-22T02:10:07.314Z"
    }
   },
   "outputs": [],
   "source": [
    "%%opts Scatter (color='k' marker='s' size=1)\n",
    "# hv.Scatter(X_train_result[['score_difference','pred']]) + hv.Scatter(X_test_result[['score_difference','pred']])\n",
    "# hv.Scatter(X_train_result[['score_difference','pred']]) + hv.Scatter(X_test_result[['score_difference','pred']])\n",
    "hv.Scatter(X_test_result[['home_score','home_score_pred']]) + hv.Scatter(X_test_result[['away_score','away_score_pred']])"
   ]
  },
  {
   "cell_type": "code",
   "execution_count": null,
   "metadata": {
    "ExecuteTime": {
     "end_time": "2018-06-22T02:10:11.193882Z",
     "start_time": "2018-06-22T02:10:07.327Z"
    }
   },
   "outputs": [],
   "source": [
    "# X_test_result[(X_test_result['home_score']==15).values | (X_test_result['home_score_pred']==16).values]\n",
    "# X_test_result[(X_test_result['home_score']==4).values]\n",
    "X_test_result[(X_test_result['home_score_pred']!=X_test_result['away_score_pred']).values]"
   ]
  },
  {
   "cell_type": "code",
   "execution_count": null,
   "metadata": {
    "ExecuteTime": {
     "end_time": "2018-06-22T02:10:11.194635Z",
     "start_time": "2018-06-22T02:10:07.342Z"
    }
   },
   "outputs": [],
   "source": [
    "# %%output size=300\n",
    "# # bars = hv.Bars(error_count.tail(), hv.Dimension('error'), 'count')\n",
    "# # bars = hv.Bars(train_error_count, hv.Dimension('error'), 'count')\n",
    "# bars = hv.Bars(test_error_count, hv.Dimension('error'), 'count')\n",
    "# bars"
   ]
  },
  {
   "cell_type": "markdown",
   "metadata": {
    "heading_collapsed": true
   },
   "source": [
    "## XGB"
   ]
  },
  {
   "cell_type": "code",
   "execution_count": null,
   "metadata": {
    "ExecuteTime": {
     "end_time": "2018-06-22T02:10:11.195401Z",
     "start_time": "2018-06-22T02:10:07.354Z"
    },
    "hidden": true
   },
   "outputs": [],
   "source": [
    "# import xgboost as xgb\n",
    "# from sklearn import metrics\n",
    "\n",
    "# denom = 0\n",
    "# fold = 5 #Change to 5, 1 for Kaggle Limits\n",
    "# for i in range(fold):\n",
    "#     params = {\n",
    "#         'eta': 0.03333,\n",
    "#         'max_depth': 4,\n",
    "# #         'objective': 'multi:softprob',\n",
    "#         'eval_metric': 'mlogloss',\n",
    "# #         'num_class': 9,\n",
    "#         'num_class': 2,\n",
    "#         'seed': i,\n",
    "#         'silent': True,\n",
    "# #         'tree_method': 'gpu_hist'\n",
    "#     }\n",
    "# #     x1, x2, y1, y2 = model_selection.train_test_split(train, y, test_size=0.18, random_state=i)\n",
    "#     x1, x2, y1, y2 = train_test_split(X_train, y_train, test_size=0.2, random_state=i)\n",
    "#     watchlist = [(xgb.DMatrix(x1, y1), 'train'), (xgb.DMatrix(x2, y2), 'valid')]\n",
    "#     model = xgb.train(params, xgb.DMatrix(x1, y1), 1000,  watchlist, verbose_eval=50, early_stopping_rounds=100)\n",
    "# #     score1 = metrics.log_loss(y2, model.predict(xgb.DMatrix(x2), ntree_limit=model.best_ntree_limit), labels = list(range(9)))\n",
    "# #     score1 = metrics.log_loss(y2, model.predict(xgb.DMatrix(x2), ntree_limit=model.best_ntree_limit))\n",
    "# #     print(score1)\n",
    "#     #if score < 0.9:\n",
    "#     if denom != 0:\n",
    "# #         pred = model.predict(xgb.DMatrix(test), ntree_limit=model.best_ntree_limit+80)\n",
    "#         pred = model.predict(xgb.DMatrix(X_test), ntree_limit=model.best_ntree_limit+80)\n",
    "#         preds += pred\n",
    "#     else:\n",
    "# #         pred = model.predict(xgb.DMatrix(test), ntree_limit=model.best_ntree_limit+80)\n",
    "#         pred = model.predict(xgb.DMatrix(X_test), ntree_limit=model.best_ntree_limit+80)\n",
    "#         preds = pred.copy()\n",
    "#     denom += 1\n",
    "# #     submission = pd.DataFrame(pred, columns=['class'+str(c+1) for c in range(9)])\n",
    "#     submission = pd.DataFrame(pred, columns=['is_won'])\n",
    "# #     submission['ID'] = pid\n",
    "# #     submission.to_csv('submission_xgb_fold_'  + str(i) + '.csv', index=False)\n",
    "# preds /= denom\n",
    "# submission = pd.DataFrame(preds, columns=['is_won'])\n",
    "# # submission['ID'] = pid\n",
    "# # submission.to_csv('submission.gz', index=False, compression='gzip')"
   ]
  },
  {
   "cell_type": "markdown",
   "metadata": {},
   "source": [
    "## Confusion Matrix"
   ]
  },
  {
   "cell_type": "code",
   "execution_count": null,
   "metadata": {
    "ExecuteTime": {
     "end_time": "2018-06-22T02:10:11.196158Z",
     "start_time": "2018-06-22T02:10:07.363Z"
    },
    "_uuid": "78e3186d0e783cf2a4cb1a141a8d0ffe9f2b59ba"
   },
   "outputs": [],
   "source": [
    "# figures \n",
    "fpr, tpr, _ = roc_curve(y_test, model.predict_proba(X_test)[:,1])\n",
    "# fpr, tpr, _ = roc_curve(y_test, model.predict(X_test))\n",
    "plt.figure(figsize=(15,5))\n",
    "ax = plt.subplot(1,3,1)\n",
    "ax.plot([0, 1], [0, 1], 'k--')\n",
    "ax.plot(fpr, tpr)\n",
    "ax.set_title('AUC score is {0:0.2}'.format(roc_auc_score(y_test, model.predict_proba(X_test)[:,1])))\n",
    "ax.set_aspect(1)\n",
    "\n",
    "ax = plt.subplot(1,3,2)\n",
    "cm = confusion_matrix(y_test, model.predict(X_test))\n",
    "print('Confusion Matrix of Test Set')\n",
    "print(cm)\n",
    "ax.imshow(cm, cmap='Blues', clim = (0, cm.max())) \n",
    "\n",
    "ax.set_xlabel('Predicted label')\n",
    "ax.set_title('Performance on the Test set')\n",
    "\n",
    "ax = plt.subplot(1,3,3)\n",
    "cm = confusion_matrix(y_train, model.predict(X_train))\n",
    "print('Confusion Matrix of Training Set')\n",
    "print(cm)\n",
    "ax.imshow(cm, cmap='Blues', clim = (0, cm.max())) \n",
    "ax.set_xlabel('Predicted label')\n",
    "ax.set_title('Performance on the Training set')\n",
    "pass"
   ]
  },
  {
   "cell_type": "code",
   "execution_count": null,
   "metadata": {
    "ExecuteTime": {
     "end_time": "2018-06-22T02:10:11.196874Z",
     "start_time": "2018-06-22T02:10:07.371Z"
    }
   },
   "outputs": [],
   "source": [
    "# print(__doc__)\n",
    "\n",
    "import itertools\n",
    "# import numpy as np\n",
    "# import matplotlib.pyplot as plt\n",
    "\n",
    "from sklearn import svm, datasets\n",
    "from sklearn.model_selection import train_test_split\n",
    "from sklearn.metrics import confusion_matrix\n",
    "\n",
    "# # import some data to play with\n",
    "# iris = datasets.load_iris()\n",
    "# X = iris.data\n",
    "# y = iris.target\n",
    "# class_names = iris.target_names\n",
    "class_names = y.unique().tolist()\n",
    "\n",
    "# # Split the data into a training set and a test set\n",
    "# X_train, X_test, y_train, y_test = train_test_split(X, y, random_state=0)\n",
    "\n",
    "# # Run classifier, using a model that is too regularized (C too low) to see\n",
    "# # the impact on the results\n",
    "# classifier = svm.SVC(kernel='linear', C=0.01)\n",
    "# y_pred = classifier.fit(X_train, y_train).predict(X_test)\n",
    "\n",
    "\n",
    "def plot_confusion_matrix(cm, classes,\n",
    "                          normalize=False,\n",
    "                          title='Confusion matrix',\n",
    "                          cmap=plt.cm.Blues):\n",
    "    \"\"\"\n",
    "    This function prints and plots the confusion matrix.\n",
    "    Normalization can be applied by setting `normalize=True`.\n",
    "    \"\"\"\n",
    "    if normalize:\n",
    "        cm = cm.astype('float') / cm.sum(axis=1)[:, np.newaxis]\n",
    "        print(\"Normalized confusion matrix\")\n",
    "    else:\n",
    "        print('Confusion matrix, without normalization')\n",
    "\n",
    "    print(cm)\n",
    "\n",
    "    plt.imshow(cm, interpolation='nearest', cmap=cmap)\n",
    "    plt.title(title)\n",
    "    plt.colorbar()\n",
    "    tick_marks = np.arange(len(classes))\n",
    "    plt.xticks(tick_marks, classes, rotation=45)\n",
    "    plt.yticks(tick_marks, classes)\n",
    "\n",
    "    fmt = '.2f' if normalize else 'd'\n",
    "    thresh = cm.max() / 2.\n",
    "    for i, j in itertools.product(range(cm.shape[0]), range(cm.shape[1])):\n",
    "        plt.text(j, i, format(cm[i, j], fmt),\n",
    "                 horizontalalignment=\"center\",\n",
    "                 color=\"white\" if cm[i, j] > thresh else \"black\")\n",
    "\n",
    "    plt.tight_layout()\n",
    "    plt.ylabel('True label')\n",
    "    plt.xlabel('Predicted label')\n",
    "\n",
    "# Compute confusion matrix\n",
    "# cnf_matrix = confusion_matrix(y_test, y_pred)\n",
    "cnf_matrix = confusion_matrix(y_train, model.predict(X_train))\n",
    "np.set_printoptions(precision=2)\n",
    "\n",
    "# Plot non-normalized confusion matrix\n",
    "plt.figure()\n",
    "plot_confusion_matrix(cnf_matrix, classes=class_names,\n",
    "                      title='Confusion matrix, without normalization')\n",
    "\n",
    "# Plot normalized confusion matrix\n",
    "plt.figure()\n",
    "plot_confusion_matrix(cnf_matrix, classes=class_names, normalize=True,\n",
    "                      title='Normalized confusion matrix')\n",
    "\n",
    "plt.show()"
   ]
  },
  {
   "cell_type": "markdown",
   "metadata": {
    "_uuid": "4df844d3dda19501acb22ca095f100eed9787263"
   },
   "source": [
    "I consider this pretty good performance, minding that soccer matches have typically only few goals scored and therefore making their outcome even more unpredictable. Nevertheless, let's look at the bad predictions and see where we are making mistakes more often."
   ]
  },
  {
   "cell_type": "code",
   "execution_count": null,
   "metadata": {
    "ExecuteTime": {
     "end_time": "2018-06-22T02:10:11.197702Z",
     "start_time": "2018-06-22T02:10:07.378Z"
    },
    "_uuid": "f6550496a065d29bade0adbbb5c7662fd7c7fc40"
   },
   "outputs": [],
   "source": [
    "features = ['average_rank', 'rank_difference', 'point_difference']\n",
    "wrongs = y_test != model.predict(X_test)\n",
    "\n",
    "for feature in features:\n",
    "    plt.figure()\n",
    "    plt.title(feature)\n",
    "    X_test.loc[wrongs, feature].plot.kde()\n",
    "    X.loc[:, feature].plot.kde()\n",
    "    plt.legend(['wrongs', 'all'])\n",
    "    \n",
    "print(\"Stakes distribution in the wrong predictions\")\n",
    "print(X_test.loc[wrongs, 'is_stake'].value_counts() / wrongs.sum())\n",
    "print(\"Stakes distribution overall\")\n",
    "print(X['is_stake'].value_counts() / X.shape[0])"
   ]
  },
  {
   "cell_type": "markdown",
   "metadata": {
    "_uuid": "d0ad1a53cac1da95697f1ebfa1c5e7c229f52083"
   },
   "source": [
    "From these figures, we read \n",
    "- we predict worse for closer ranks\n",
    "- lower ranks in general\n",
    "- and somewhat for matches with no stakes (Friendly here)\n",
    "\n",
    "Luckily, this implies that for the world cup our predicitons may be somewhat even better"
   ]
  },
  {
   "cell_type": "markdown",
   "metadata": {
    "_uuid": "479b97e38320c9eba008210903b17951edc84727"
   },
   "source": [
    "# World Cup simulation"
   ]
  },
  {
   "cell_type": "markdown",
   "metadata": {
    "_uuid": "16eae35346f7a015d627801e05d0d408f3091964"
   },
   "source": [
    "## Group rounds"
   ]
  },
  {
   "cell_type": "code",
   "execution_count": null,
   "metadata": {
    "ExecuteTime": {
     "end_time": "2018-06-22T02:10:11.198453Z",
     "start_time": "2018-06-22T02:10:07.386Z"
    },
    "_uuid": "db455e9096f0a41a0abd512193222f366d42c4c8"
   },
   "outputs": [],
   "source": [
    "# let's define a small margin when we safer to predict draw then win\n",
    "margin = 0.05\n",
    "\n",
    "# let's define the rankings at the time of the World Cup\n",
    "world_cup_rankings = rankings.loc[(rankings['rank_date'] == rankings['rank_date'].max()) & \n",
    "                                    rankings['country_full'].isin(world_cup.index.unique())]\n",
    "world_cup_rankings = world_cup_rankings.set_index(['country_full'])"
   ]
  },
  {
   "cell_type": "code",
   "execution_count": null,
   "metadata": {
    "ExecuteTime": {
     "end_time": "2018-06-22T02:10:11.199247Z",
     "start_time": "2018-06-22T02:10:07.393Z"
    },
    "_uuid": "fd197611ef601dcc41c59f48f37f66bec6d2d669"
   },
   "outputs": [],
   "source": [
    "from itertools import combinations\n",
    "\n",
    "opponents = ['First match \\nagainst', 'Second match\\n against', 'Third match\\n against']\n",
    "\n",
    "world_cup['points'] = 0\n",
    "world_cup['total_prob'] = 0\n",
    "\n",
    "for group in set(world_cup['Group']):\n",
    "    print('___Starting group {}:___'.format(group))\n",
    "    for home, away in combinations(world_cup.query('Group == \"{}\"'.format(group)).index, 2):\n",
    "        print(\"{} vs. {}: \".format(home, away), end='')\n",
    "        row = pd.DataFrame(np.array([[np.nan, np.nan, np.nan, True]]), columns=X_test.columns)\n",
    "        home_rank = world_cup_rankings.loc[home, 'rank']\n",
    "        home_points = world_cup_rankings.loc[home, 'weighted_points']\n",
    "        opp_rank = world_cup_rankings.loc[away, 'rank']\n",
    "        opp_points = world_cup_rankings.loc[away, 'weighted_points']\n",
    "        row['average_rank'] = (home_rank + opp_rank) / 2\n",
    "        row['rank_difference'] = home_rank - opp_rank\n",
    "        row['point_difference'] = home_points - opp_points\n",
    "        \n",
    "        home_win_prob = model.predict_proba(row)[:,1][0]\n",
    "        world_cup.loc[home, 'total_prob'] += home_win_prob\n",
    "        world_cup.loc[away, 'total_prob'] += 1-home_win_prob\n",
    "        \n",
    "        points = 0\n",
    "        if home_win_prob <= 0.5 - margin:\n",
    "            print(\"{} wins with {:.2f}\".format(away, 1-home_win_prob))\n",
    "            world_cup.loc[away, 'points'] += 3\n",
    "        if home_win_prob > 0.5 - margin:\n",
    "            points = 1\n",
    "        if home_win_prob >= 0.5 + margin:\n",
    "            points = 3\n",
    "            world_cup.loc[home, 'points'] += 3\n",
    "            print(\"{} wins with {:.2f}\".format(home, home_win_prob))\n",
    "        if points == 1:\n",
    "            print(\"Draw\")\n",
    "            world_cup.loc[home, 'points'] += 1\n",
    "            world_cup.loc[away, 'points'] += 1"
   ]
  },
  {
   "cell_type": "markdown",
   "metadata": {
    "_uuid": "b2c787fd8541c281f736a4c6b698839f565ac1b8"
   },
   "source": [
    "## Single-elimination rounds"
   ]
  },
  {
   "cell_type": "code",
   "execution_count": null,
   "metadata": {
    "ExecuteTime": {
     "end_time": "2018-06-22T02:10:11.199969Z",
     "start_time": "2018-06-22T02:10:07.401Z"
    },
    "_uuid": "2eb8426dfc5e4fdd985e8109179e34dac2e9c976"
   },
   "outputs": [],
   "source": [
    "pairing = [0,3,4,7,8,11,12,15,1,2,5,6,9,10,13,14]\n",
    "\n",
    "world_cup = world_cup.sort_values(by=['Group', 'points', 'total_prob'], ascending=False).reset_index()\n",
    "world_cup"
   ]
  },
  {
   "cell_type": "code",
   "execution_count": null,
   "metadata": {
    "ExecuteTime": {
     "end_time": "2018-06-22T02:10:11.200728Z",
     "start_time": "2018-06-22T02:10:07.408Z"
    },
    "_uuid": "2eb8426dfc5e4fdd985e8109179e34dac2e9c976"
   },
   "outputs": [],
   "source": [
    "next_round_wc = world_cup.groupby('Group').nth([0, 1]) # select the top 2\n",
    "next_round_wc = next_round_wc.reset_index()\n",
    "next_round_wc = next_round_wc.loc[pairing]\n",
    "next_round_wc = next_round_wc.set_index('Team')\n",
    "\n",
    "finals = ['round_of_16', 'quarterfinal', 'semifinal', 'final']\n",
    "\n",
    "labels = list()\n",
    "odds = list()\n",
    "\n",
    "for f in finals:\n",
    "    print(\"___Starting of the {}___\".format(f))\n",
    "    iterations = int(len(next_round_wc) / 2)\n",
    "    winners = []\n",
    "\n",
    "    for i in range(iterations):\n",
    "        home = next_round_wc.index[i*2]\n",
    "        away = next_round_wc.index[i*2+1]\n",
    "        print(\"{} vs. {}: \".format(home,\n",
    "                                   away), \n",
    "                                   end='')\n",
    "        row = pd.DataFrame(np.array([[np.nan, np.nan, np.nan, True]]), columns=X_test.columns)\n",
    "        home_rank = world_cup_rankings.loc[home, 'rank']\n",
    "        home_points = world_cup_rankings.loc[home, 'weighted_points']\n",
    "        opp_rank = world_cup_rankings.loc[away, 'rank']\n",
    "        opp_points = world_cup_rankings.loc[away, 'weighted_points']\n",
    "        row['average_rank'] = (home_rank + opp_rank) / 2\n",
    "        row['rank_difference'] = home_rank - opp_rank\n",
    "        row['point_difference'] = home_points - opp_points\n",
    "\n",
    "        home_win_prob = model.predict_proba(row)[:,1][0]\n",
    "        if model.predict_proba(row)[:,1] <= 0.5:\n",
    "            print(\"{0} wins with probability {1:.2f}\".format(away, 1-home_win_prob))\n",
    "            winners.append(away)\n",
    "        else:\n",
    "            print(\"{0} wins with probability {1:.2f}\".format(home, home_win_prob))\n",
    "            winners.append(home)\n",
    "\n",
    "        labels.append(\"{}({:.2f}) vs. {}({:.2f})\".format(world_cup_rankings.loc[home, 'country_abrv'], \n",
    "                                                        1/home_win_prob, \n",
    "                                                        world_cup_rankings.loc[away, 'country_abrv'], \n",
    "                                                        1/(1-home_win_prob)))\n",
    "        odds.append([home_win_prob, 1-home_win_prob])\n",
    "                \n",
    "    next_round_wc = next_round_wc.loc[winners]\n",
    "    print(\"\\n\")"
   ]
  }
 ],
 "metadata": {
  "hide_input": false,
  "kernelspec": {
   "display_name": "Python 3",
   "language": "python",
   "name": "python3"
  },
  "language_info": {
   "codemirror_mode": {
    "name": "ipython",
    "version": 3
   },
   "file_extension": ".py",
   "mimetype": "text/x-python",
   "name": "python",
   "nbconvert_exporter": "python",
   "pygments_lexer": "ipython3",
   "version": "3.6.5"
  },
  "latex_envs": {
   "LaTeX_envs_menu_present": true,
   "autoclose": false,
   "autocomplete": true,
   "bibliofile": "biblio.bib",
   "cite_by": "apalike",
   "current_citInitial": 1,
   "eqLabelWithNumbers": true,
   "eqNumInitial": 1,
   "hotkeys": {
    "equation": "Ctrl-E",
    "itemize": "Ctrl-I"
   },
   "labels_anchors": false,
   "latex_user_defs": false,
   "report_style_numbering": false,
   "user_envs_cfg": false
  },
  "toc": {
   "base_numbering": 1,
   "nav_menu": {},
   "number_sections": true,
   "sideBar": false,
   "skip_h1_title": false,
   "title_cell": "Table of Contents",
   "title_sidebar": "Contents",
   "toc_cell": false,
   "toc_position": {
    "height": "208px",
    "left": "2083px",
    "top": "1075px",
    "width": "432px"
   },
   "toc_section_display": true,
   "toc_window_display": false
  },
  "varInspector": {
   "cols": {
    "lenName": 16,
    "lenType": 16,
    "lenVar": 40
   },
   "kernels_config": {
    "python": {
     "delete_cmd_postfix": "",
     "delete_cmd_prefix": "del ",
     "library": "var_list.py",
     "varRefreshCmd": "print(var_dic_list())"
    },
    "r": {
     "delete_cmd_postfix": ") ",
     "delete_cmd_prefix": "rm(",
     "library": "var_list.r",
     "varRefreshCmd": "cat(var_dic_list()) "
    }
   },
   "types_to_exclude": [
    "module",
    "function",
    "builtin_function_or_method",
    "instance",
    "_Feature"
   ],
   "window_display": false
  }
 },
 "nbformat": 4,
 "nbformat_minor": 1
}
